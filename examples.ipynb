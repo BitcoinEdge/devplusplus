{
 "cells": [
  {
   "cell_type": "markdown",
   "metadata": {},
   "source": [
    "### Finite Fields\n",
    "\n",
    "Check out `ecc.py` which has a class `FieldElement` and the corresponding `FieldElementTest`\n",
    "\n",
    "You can add, subtract, multiply, exponentiate and divide finite fields"
   ]
  },
  {
   "cell_type": "code",
   "execution_count": null,
   "metadata": {},
   "outputs": [],
   "source": [
    "from ecc import FieldElement\n",
    "\n",
    "a = FieldElement(2, 31)\n",
    "b = FieldElement(15, 31)\n",
    "\n",
    "# Add\n",
    "print(a+b) # 17\n",
    "\n",
    "# Subtract\n",
    "print(a-b) # 18\n",
    "\n",
    "# Multiply\n",
    "print(a*b) # 30\n",
    "\n",
    "# Exponentiate\n",
    "print(a**5) # 1\n",
    "\n",
    "# Divide\n",
    "print(a/b) # 27"
   ]
  },
  {
   "cell_type": "code",
   "execution_count": null,
   "metadata": {},
   "outputs": [],
   "source": []
  }
 ],
 "metadata": {
  "kernelspec": {
   "display_name": "Python 3",
   "language": "python",
   "name": "python3"
  },
  "language_info": {
   "codemirror_mode": {
    "name": "ipython",
    "version": 3
   },
   "file_extension": ".py",
   "mimetype": "text/x-python",
   "name": "python",
   "nbconvert_exporter": "python",
   "pygments_lexer": "ipython3",
   "version": "3.5.2"
  }
 },
 "nbformat": 4,
 "nbformat_minor": 2
}
